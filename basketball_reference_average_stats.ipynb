{
 "cells": [
  {
   "cell_type": "code",
   "execution_count": null,
   "id": "b017dee9",
   "metadata": {},
   "outputs": [],
   "source": [
    "# import dependencies\n",
    "import pandas as pd\n",
    "import requests\n",
    "import time"
   ]
  },
  {
   "cell_type": "code",
   "execution_count": null,
   "id": "562fa356",
   "metadata": {},
   "outputs": [],
   "source": [
    "# use header for requests\n",
    "header = {\n",
    "  \"User-Agent\": \"Mozilla/5.0 (X11; Linux x86_64) AppleWebKit/537.36 (KHTML, like Gecko) Chrome/50.0.2661.75 Safari/537.36\",\n",
    "  \"X-Requested-With\": \"XMLHttpRequest\"\n",
    "}"
   ]
  },
  {
   "cell_type": "code",
   "execution_count": null,
   "id": "f4d8c551",
   "metadata": {},
   "outputs": [],
   "source": [
    "# define base url\n",
    "base_url = \"https://www.basketball-reference.com/players/\""
   ]
  },
  {
   "cell_type": "code",
   "execution_count": null,
   "id": "81a9aff2",
   "metadata": {},
   "outputs": [],
   "source": [
    "# alphabet list to help get every player name\n",
    "alphabet = [\"a\",\"b\",\"c\",\"d\",\"e\",\"f\",\"g\",\"h\",\"i\",\"j\",\"k\",\"l\",\"m\",\"n\",\"o\",\"p\",\"q\",\"r\",\"s\",\"t\",\"u\",\"v\",\"w\",\"x\",\"y\",\"z\",]"
   ]
  },
  {
   "cell_type": "code",
   "execution_count": null,
   "id": "2183509c",
   "metadata": {},
   "outputs": [],
   "source": [
    "# create empty dataframe\n",
    "df = pd.DataFrame({\"Player\": \"\", \"From\": \"\", \"To\": \"\", \"Pos\": \"\", \"Ht\": \"\", \"Wt\": \"\", \"Birth Date\": \"\", \"Colleges\": \"\"}, index = [])\n",
    "df"
   ]
  },
  {
   "cell_type": "code",
   "execution_count": null,
   "id": "088a67f8",
   "metadata": {},
   "outputs": [],
   "source": [
    "# loop through alphabet to get table for each letter/name\n",
    "for letter in alphabet:\n",
    "    url = base_url + letter + \"/\"\n",
    "    r = requests.get(url, headers=header)\n",
    "    print(url)\n",
    "    read_df = pd.read_html(r.text)[0]\n",
    "    df = pd.concat([df, read_df])\n",
    "    time.sleep(1)"
   ]
  },
  {
   "cell_type": "code",
   "execution_count": null,
   "id": "5338dd10",
   "metadata": {},
   "outputs": [],
   "source": [
    "# work on resetting index\n",
    "df = df.set_index(\"Player\")\n",
    "df = df.reset_index()\n",
    "df"
   ]
  },
  {
   "cell_type": "code",
   "execution_count": null,
   "id": "4c28b83a",
   "metadata": {},
   "outputs": [],
   "source": [
    "# add empty columns to df to be filled in with splits\n",
    "df[\"First Name\"] = \"\"\n",
    "df[\"Last Name\"] = \"\""
   ]
  },
  {
   "cell_type": "code",
   "execution_count": null,
   "id": "31a19fe3",
   "metadata": {},
   "outputs": [],
   "source": [
    "# split name and test\n",
    "full_name = df.loc[:, \"Player\"]\n",
    "thingy = full_name[0].split()\n",
    "thingy[1]"
   ]
  },
  {
   "cell_type": "code",
   "execution_count": null,
   "id": "f2104b60",
   "metadata": {},
   "outputs": [],
   "source": [
    "# loop through df of names and split\n",
    "first_name = []\n",
    "last_name = []\n",
    "first_letter_last = []\n",
    "for i in range(len(full_name)):\n",
    "    first_name.append(full_name[i].split(\" \")[0])\n",
    "    last_name.append(full_name[i].rsplit(\" \")[-1])\n",
    "    first_letter_last.append(full_name[i].rsplit(\" \")[-1][0].lower())\n",
    "first_name"
   ]
  },
  {
   "cell_type": "code",
   "execution_count": null,
   "id": "4d39870c",
   "metadata": {},
   "outputs": [],
   "source": [
    "# fill in empty columns\n",
    "df[\"First Name\"] = first_name\n",
    "f[\"Last Name\"] = last_name\n",
    "df[\"Last Initial\"] = first_letter_last\n",
    "df"
   ]
  },
  {
   "cell_type": "markdown",
   "id": "f5182a41",
   "metadata": {},
   "source": [
    "## Iterrows to obtain each players average stats for every season"
   ]
  },
  {
   "cell_type": "code",
   "execution_count": null,
   "id": "5444eff2",
   "metadata": {},
   "outputs": [],
   "source": [
    "# create empty dataframe to fill in with season average stats\n",
    "df_stats = pd.DataFrame({\"Player\": \"\", \"Season\": \"\", \"Age\": \"\", \"Tm\": \"\", \"Lg\": \"\", \"Pos\": \"\", \"G\": \"\", \"GS\": \"\", \"MP\": \"\", \"FG\": \"\", \"FGA\": \"\", \"FG%\": \"\", \"3P\": \"\", \"3PA\": \"\", \"3P%\": \"\", \"2P\": \"\", \"2PA\": \"\", \"2P%\": \"\", \"eFG%\": \"\", \"FT\": \"\", \"FTA\": \"\", \"FT%\": \"\", \"ORB\": \"\", \"DRB\": \"\", \"TRB\": \"\", \"AST\": \"\", \"STL\": \"\", \"BLK\": \"\", \"TOV\": \"\", \"PF\": \"\", \"PTS\": \"\",}, index = [])\n",
    "df_stats"
   ]
  },
  {
   "cell_type": "code",
   "execution_count": null,
   "id": "7cb4f431",
   "metadata": {},
   "outputs": [],
   "source": [
    "list_url_endpoints = []\n",
    "counter = 1\n",
    "for index, row in df.iterrows():\n",
    "    # create endpoint with intials/names\n",
    "    first = df.loc[index,\"First Name\"][0:2].lower()\n",
    "    last = df.loc[index,\"Last Name\"][0:5].lower()\n",
    "    initial = df.loc[index, \"Last Initial\"]\n",
    "    \n",
    "    # generate URL endpoint\n",
    "    url = base_url + initial + \"/\" + last + first +\"01.html\"\n",
    "    \n",
    "    # if name in list already, then then URL\n",
    "    if url in list_url_endpoints:\n",
    "        url2 = base_url + initial + \"/\" + last + first +\"02.html\"\n",
    "        list_url_endpoints.append(url2)\n",
    "        url=url2\n",
    "        if url2 in list_url_endpoints:\n",
    "            url3 = base_url + initial + \"/\" + last + first +\"02.html\"\n",
    "            list_url_endpoints.append(url3)\n",
    "            url=url3\n",
    "            \n",
    "    # if not in list then use url       \n",
    "    else:\n",
    "        list_url_endpoints.append(url)\n",
    "        url=url\n",
    "    # try and except on the url   \n",
    "    try:\n",
    "        r = requests.get(url, headers=header)\n",
    "        print(f\"#{counter} of {len(df)} resuts with {r} and URL: {url}\")\n",
    "        read_df = pd.read_html(r.text)[0]\n",
    "        read_df[\"Player\"]=df.loc[index, 'Player']\n",
    "        df_stats = pd.concat([df_stats, read_df])\n",
    "        time.sleep(2)\n",
    "    except:\n",
    "        time.sleep(2)\n",
    "    counter +=1"
   ]
  },
  {
   "cell_type": "code",
   "execution_count": null,
   "id": "64f5b231",
   "metadata": {},
   "outputs": [],
   "source": [
    "# save base csv results\n",
    "filepath = 'stats_all.csv'\n",
    "df_stats.to_csv(filepath) "
   ]
  },
  {
   "cell_type": "code",
   "execution_count": null,
   "id": "499b887c",
   "metadata": {},
   "outputs": [],
   "source": [
    "# dataframe to reset datatypes\n",
    "df0=df_stats.apply(lambda x: pd.to_numeric(x, errors='coerce'))"
   ]
  },
  {
   "cell_type": "code",
   "execution_count": null,
   "id": "48965505",
   "metadata": {},
   "outputs": [],
   "source": [
    "# remove non numberic columns\n",
    "df0=df0.drop([\"Player\", \"Season\", \"Tm\", \"Lg\", \"Pos\"], axis=1)\n",
    "df0"
   ]
  },
  {
   "cell_type": "code",
   "execution_count": null,
   "id": "e68cac98",
   "metadata": {},
   "outputs": [],
   "source": [
    "# create categorical df\n",
    "df1=dfa[[\"Player\", \"Season\", \"Tm\", \"Lg\", \"Pos\"]]\n",
    "df1"
   ]
  },
  {
   "cell_type": "code",
   "execution_count": null,
   "id": "dc109206",
   "metadata": {},
   "outputs": [],
   "source": [
    "# recombine numerical and categorical df\n",
    "df_0 = pd.merge(df1, df0, left_index=True, right_index=True)"
   ]
  },
  {
   "cell_type": "code",
   "execution_count": null,
   "id": "63c8c692",
   "metadata": {},
   "outputs": [],
   "source": [
    "# remove all rows where the age is null - removing career and season summary\n",
    "df_0=df_0.loc[df_0[\"Age\"].isnull() != False]"
   ]
  },
  {
   "cell_type": "code",
   "execution_count": null,
   "id": "932d5c33",
   "metadata": {},
   "outputs": [],
   "source": [
    "df_0.to_csv(\"stats_seasons.csv\")"
   ]
  },
  {
   "cell_type": "code",
   "execution_count": null,
   "id": "5a699c3f",
   "metadata": {},
   "outputs": [],
   "source": [
    "# reset the index so there is an index for pandas purposes and a primary key column for SQL purposes\n",
    "df_stats = df_stats.reset_index()\n",
    "df_stats"
   ]
  },
  {
   "cell_type": "code",
   "execution_count": null,
   "id": "696baeca",
   "metadata": {},
   "outputs": [],
   "source": [
    "df_stats=df_stats.rename(columns={\"index\": \"id\"})\n",
    "df_stats"
   ]
  },
  {
   "cell_type": "code",
   "execution_count": null,
   "id": "05bb700d",
   "metadata": {},
   "outputs": [],
   "source": [
    "df_stats=pd.read_csv(\"stats_all.csv\")"
   ]
  },
  {
   "cell_type": "code",
   "execution_count": null,
   "id": "bc451ef5",
   "metadata": {},
   "outputs": [],
   "source": [
    "# create conneciton to PostgreSQL\n",
    "protocol = 'postgresql'\n",
    "username = 'postgres'\n",
    "password = 'bootcamp'\n",
    "host = 'localhost'\n",
    "port = 5432\n",
    "database_name = 'nba_stats_db'\n",
    "rds_connection_string = f'{protocol}://{username}:{password}@{host}:{port}/{database_name}'\n",
    "engine = create_engine(rds_connection_string)"
   ]
  },
  {
   "cell_type": "code",
   "execution_count": null,
   "id": "98081e25",
   "metadata": {},
   "outputs": [],
   "source": [
    "# Confirm tables\n",
    "inspector = inspect(engine)\n",
    "inspector.get_table_names()"
   ]
  },
  {
   "cell_type": "code",
   "execution_count": null,
   "id": "ccec3b97",
   "metadata": {},
   "outputs": [],
   "source": [
    "df"
   ]
  }
 ],
 "metadata": {
  "kernelspec": {
   "display_name": "Python 3 (ipykernel)",
   "language": "python",
   "name": "python3"
  },
  "language_info": {
   "codemirror_mode": {
    "name": "ipython",
    "version": 3
   },
   "file_extension": ".py",
   "mimetype": "text/x-python",
   "name": "python",
   "nbconvert_exporter": "python",
   "pygments_lexer": "ipython3",
   "version": "3.8.13"
  },
  "vscode": {
   "interpreter": {
    "hash": "f6152a6a98cb1106d7ec0a625b6b56a29918f26a1f95942e6759e31da0a21f73"
   }
  }
 },
 "nbformat": 4,
 "nbformat_minor": 5
}
